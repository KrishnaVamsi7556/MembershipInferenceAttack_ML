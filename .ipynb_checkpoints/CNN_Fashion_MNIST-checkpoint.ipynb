{
 "cells": [
  {
   "cell_type": "markdown",
   "metadata": {},
   "source": "# Target Model "
  },
  {
   "cell_type": "code",
   "execution_count": 5,
   "metadata": {},
   "outputs": [],
   "source": "import tensorflow as tf\nfrom tensorflow import keras\nimport numpy as np\nimport matplotlib.pyplot as plt\nfrom sklearn.utils import shuffle\nimport pandas as pd"
  },
  {
   "cell_type": "code",
   "execution_count": 2,
   "metadata": {},
   "outputs": [],
   "source": "def data_preprocessing(x, y):\n    out_y = keras.utils.to_categorical(y, 10)\n    x_shaped_array = x.reshape(x.shape[0], 28, 28, 1)\n    out_x = x_shaped_array/255.0\n    return out_x, out_y"
  },
  {
   "cell_type": "code",
   "execution_count": 6,
   "metadata": {},
   "outputs": [],
   "source": "train=pd.read_csv(\"set3.csv\")\ntest=pd.read_csv(\"set4.csv\")\n\ntrainset=np.array(train.values)\ntestset=np.array(test.values)\n\nXtrain, ytrain=trainset[:, :trainset.shape[1]-1], trainset[:, trainset.shape[1]-1:]\nXtest, ytest=testset[:, :testset.shape[1]-1], testset[:, trainset.shape[1]-1:]\n\nX_train=Xtrain.reshape(Xtrain.shape[0], 28, 28)\nX_test=Xtest.reshape(Xtest.shape[0], 28, 28)\n\ny_train=ytrain.reshape(ytrain.shape[0])\ny_test=ytest.reshape(ytest.shape[0])"
  },
  {
   "cell_type": "code",
   "execution_count": 7,
   "metadata": {},
   "outputs": [],
   "source": "class_names = ['T-shirt/top', 'Trouser', 'Pullover', 'Dress', 'Coat',\n               'Sandal', 'Shirt', 'Sneaker', 'Bag', 'Ankle boot']"
  },
  {
   "cell_type": "code",
   "execution_count": 8,
   "metadata": {},
   "outputs": [],
   "source": "X_train, y_train=data_preprocessing(X_train, y_train)\nX_test, y_test=data_preprocessing(X_test, y_test)"
  },
  {
   "cell_type": "code",
   "execution_count": 9,
   "metadata": {},
   "outputs": [],
   "source": "model = keras.Sequential([\n    keras.layers.Conv2D(32,kernel_size=(3,3),activation='relu',kernel_initializer='he_normal',input_shape=(28,28,1)),\n    keras.layers.MaxPooling2D((2,2)),\n    keras.layers.Conv2D(64,kernel_size=(3,3),activation='relu'),\n    keras.layers.MaxPooling2D((2,2)),\n    keras.layers.Conv2D(128,kernel_size=(3,3),activation='relu'),\n    keras.layers.Flatten(),\n    keras.layers.Dense(128, activation='relu'),\n    keras.layers.Dense(10, activation='softmax')\n])"
  },
  {
   "cell_type": "code",
   "execution_count": 10,
   "metadata": {},
   "outputs": [],
   "source": "model.compile(loss=keras.losses.categorical_crossentropy,\n              optimizer='adam',\n              metrics=['accuracy'])"
  },
  {
   "cell_type": "code",
   "execution_count": 12,
   "metadata": {},
   "outputs": [
    {
     "name": "stdout",
     "output_type": "stream",
     "text": "Train on 17500 samples, validate on 17500 samples\nEpoch 1/10\n17500/17500 [==============================] - 15s 858us/sample - loss: 0.7274 - accuracy: 0.7354 - val_loss: 0.4979 - val_accuracy: 0.8181\nEpoch 2/10\n17500/17500 [==============================] - 16s 912us/sample - loss: 0.4509 - accuracy: 0.8333 - val_loss: 0.4005 - val_accuracy: 0.8536\nEpoch 3/10\n17500/17500 [==============================] - 14s 805us/sample - loss: 0.3721 - accuracy: 0.8610 - val_loss: 0.3437 - val_accuracy: 0.8738\nEpoch 4/10\n17500/17500 [==============================] - 15s 849us/sample - loss: 0.3310 - accuracy: 0.8799 - val_loss: 0.2827 - val_accuracy: 0.8964\nEpoch 5/10\n17500/17500 [==============================] - 18s 1ms/sample - loss: 0.2924 - accuracy: 0.8918 - val_loss: 0.2717 - val_accuracy: 0.9011\nEpoch 6/10\n17500/17500 [==============================] - 13s 757us/sample - loss: 0.2646 - accuracy: 0.9033 - val_loss: 0.2392 - val_accuracy: 0.9143\nEpoch 7/10\n17500/17500 [==============================] - 14s 794us/sample - loss: 0.2376 - accuracy: 0.9134 - val_loss: 0.2324 - val_accuracy: 0.9130\nEpoch 8/10\n17500/17500 [==============================] - 14s 826us/sample - loss: 0.2148 - accuracy: 0.9216 - val_loss: 0.1770 - val_accuracy: 0.9362\nEpoch 9/10\n17500/17500 [==============================] - 12s 675us/sample - loss: 0.1965 - accuracy: 0.9294 - val_loss: 0.2020 - val_accuracy: 0.9233\nEpoch 10/10\n17500/17500 [==============================] - 12s 668us/sample - loss: 0.1779 - accuracy: 0.9345 - val_loss: 0.1567 - val_accuracy: 0.9422\n"
    }
   ],
   "source": "train_model = model.fit(X_train, y_train,\n                  batch_size=128,\n                  epochs=10,\n                  verbose=1,\n                  validation_data=(X_test, y_test))"
  },
  {
   "cell_type": "code",
   "execution_count": 13,
   "metadata": {},
   "outputs": [
    {
     "name": "stdout",
     "output_type": "stream",
     "text": "17500/17500 - 4s - loss: 0.1567 - accuracy: 0.9422\n"
    }
   ],
   "source": "test_loss, test_acc = model.evaluate(X_test, y_test, verbose=2)"
  },
  {
   "cell_type": "code",
   "execution_count": 14,
   "metadata": {},
   "outputs": [],
   "source": "y_out=model.predict(X_test)\ny_in=model.predict(X_train)"
  },
  {
   "cell_type": "code",
   "execution_count": 15,
   "metadata": {},
   "outputs": [],
   "source": "din=np.hstack((y_in, np.ones((y_in.shape[0],1))))\ndout=np.hstack((y_out, np.zeros((y_out.shape[0],1))))\ndt=np.vstack((din,dout))\ndf=pd.DataFrame(dt)\ndf.to_csv(\"testing_set.csv\", index=False, header=True)"
  }
 ],
 "metadata": {
  "kernelspec": {
   "display_name": "dl-env",
   "language": "python",
   "name": "dl-env"
  },
  "language_info": {
   "codemirror_mode": {
    "name": "ipython",
    "version": 3
   },
   "file_extension": ".py",
   "mimetype": "text/x-python",
   "name": "python",
   "nbconvert_exporter": "python",
   "pygments_lexer": "ipython3",
   "version": "3.6.9"
  },
  "toc": {
   "nav_menu": {},
   "number_sections": true,
   "sideBar": true,
   "skip_h1_title": false,
   "title_cell": "Table of Contents",
   "title_sidebar": "Contents",
   "toc_cell": false,
   "toc_position": {},
   "toc_section_display": true,
   "toc_window_display": false
  }
 },
 "nbformat": 4,
 "nbformat_minor": 2
}
