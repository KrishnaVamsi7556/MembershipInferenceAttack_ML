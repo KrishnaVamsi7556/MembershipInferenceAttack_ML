{
 "cells": [
  {
   "cell_type": "markdown",
   "metadata": {},
   "source": "# Shadow Model"
  },
  {
   "cell_type": "code",
   "execution_count": 9,
   "metadata": {},
   "outputs": [],
   "source": "import numpy as np\nimport pandas as pd\nfrom sklearn.datasets import fetch_20newsgroups_vectorized\nfrom sklearn.model_selection import train_test_split"
  },
  {
   "cell_type": "code",
   "execution_count": 10,
   "metadata": {},
   "outputs": [],
   "source": "dataset = fetch_20newsgroups_vectorized('all')\nX = dataset.data\ny = dataset.target"
  },
  {
   "cell_type": "code",
   "execution_count": 11,
   "metadata": {},
   "outputs": [],
   "source": "shadow_X, target_X, shadow_y, target_y = train_test_split(X, y, random_state=42, test_size=0.5)\nX_train, X_test, y_train, y_test = train_test_split(shadow_X, shadow_y, test_size=0.5, random_state=42)"
  },
  {
   "cell_type": "code",
   "execution_count": 12,
   "metadata": {},
   "outputs": [
    {
     "name": "stdout",
     "output_type": "stream",
     "text": "Training Accuracy : 0.852048397368, Testing Accuracy : 0.701400679117\n"
    }
   ],
   "source": "from sklearn.linear_model import LogisticRegression\nfrom sklearn.metrics import accuracy_score\nsoftRegr=LogisticRegression(multi_class='multinomial', solver='lbfgs', max_iter=3000, penalty='l2')\nsoftRegr.fit(X_train, y_train)\n\npred_train=softRegr.predict(X_train)\npred_test=softRegr.predict(X_test)\n\ntrain_acc=accuracy_score(y_train, pred_train)\ntest_acc=accuracy_score(y_test, pred_test)\n\nprint(\"Training Accuracy : {}, Testing Accuracy : {}\".format(train_acc, test_acc))"
  },
  {
   "cell_type": "code",
   "execution_count": 13,
   "metadata": {},
   "outputs": [],
   "source": "y_out=softRegr.predict_proba(X_test)\ny_in=softRegr.predict_proba(X_train)"
  },
  {
   "cell_type": "code",
   "execution_count": 14,
   "metadata": {},
   "outputs": [],
   "source": "din=np.hstack((y_in, np.ones((y_in.shape[0],1))))\ndout=np.hstack((y_out, np.zeros((y_out.shape[0],1))))\ndt=np.vstack((din,dout))\ndf=pd.DataFrame(dt)\ndf.to_csv(\"sh_softmax.csv\", index=False, header=True)"
  }
 ],
 "metadata": {
  "kernelspec": {
   "display_name": "dl-env",
   "language": "python",
   "name": "dl-env"
  },
  "language_info": {
   "codemirror_mode": {
    "name": "ipython",
    "version": 3
   },
   "file_extension": ".py",
   "mimetype": "text/x-python",
   "name": "python",
   "nbconvert_exporter": "python",
   "pygments_lexer": "ipython3",
   "version": "3.6.9"
  },
  "toc": {
   "nav_menu": {},
   "number_sections": true,
   "sideBar": true,
   "skip_h1_title": false,
   "title_cell": "Table of Contents",
   "title_sidebar": "Contents",
   "toc_cell": false,
   "toc_position": {},
   "toc_section_display": true,
   "toc_window_display": false
  }
 },
 "nbformat": 4,
 "nbformat_minor": 2
}
