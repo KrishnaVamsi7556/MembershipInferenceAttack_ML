{
 "cells": [
  {
   "cell_type": "markdown",
   "metadata": {},
   "source": "# Attack Model\n- Logistic Regression\n\n> This is a generic attack model the result will depend on which dataset you used for target and shadow model"
  },
  {
   "cell_type": "code",
   "execution_count": 19,
   "metadata": {},
   "outputs": [],
   "source": "import numpy as np\nimport pandas as pd\nfrom sklearn.utils import shuffle\nfrom sklearn.metrics import confusion_matrix,classification_report, accuracy_score, precision_score, recall_score"
  },
  {
   "cell_type": "code",
   "execution_count": 20,
   "metadata": {},
   "outputs": [],
   "source": "dte = pd.read_csv(\"sh_forest.csv\")\ndtr1 = pd.read_csv(\"sh_softmax.csv\")\n\nte = np.array(dte)\ntr1=np.array(dtr1)\n\ntr=np.vstack((tr1))\n\ntr_shuffle = shuffle(tr)\nte_shuffle = shuffle(te)"
  },
  {
   "cell_type": "code",
   "execution_count": 21,
   "metadata": {},
   "outputs": [],
   "source": "X_train = tr_shuffle[:,:3]\ny_train = tr_shuffle[:,3:]\nX_test = te_shuffle[:,:3]\ny_test = te_shuffle[:,3:]"
  },
  {
   "cell_type": "code",
   "execution_count": 22,
   "metadata": {},
   "outputs": [
    {
     "name": "stdout",
     "output_type": "stream",
     "text": "Accuracy : 0.8434681099437547 \n Precision : 0.7615583575816359 \n Recall : 1.0\n"
    }
   ],
   "source": "from sklearn.linear_model import LogisticRegression\nmodel = LogisticRegression()\nmodel.fit(X_train,y_train.ravel())\n\npredict_test_logi = model.predict(X_test)\n\naccuracy=accuracy_score(y_test, predict_test_logi)\nprecision=precision_score(y_test, predict_test_logi)\nrecall=recall_score(y_test, predict_test_logi)\n\nprint(\"Accuracy : {} \\n Precision : {} \\n Recall : {}\".format(accuracy, precision, recall))"
  }
 ],
 "metadata": {
  "kernelspec": {
   "display_name": "dl-env",
   "language": "python",
   "name": "dl-env"
  },
  "language_info": {
   "codemirror_mode": {
    "name": "ipython",
    "version": 3
   },
   "file_extension": ".py",
   "mimetype": "text/x-python",
   "name": "python",
   "nbconvert_exporter": "python",
   "pygments_lexer": "ipython3",
   "version": "3.6.9"
  },
  "toc": {
   "nav_menu": {},
   "number_sections": true,
   "sideBar": true,
   "skip_h1_title": false,
   "title_cell": "Table of Contents",
   "title_sidebar": "Contents",
   "toc_cell": false,
   "toc_position": {},
   "toc_section_display": true,
   "toc_window_display": false
  }
 },
 "nbformat": 4,
 "nbformat_minor": 2
}
