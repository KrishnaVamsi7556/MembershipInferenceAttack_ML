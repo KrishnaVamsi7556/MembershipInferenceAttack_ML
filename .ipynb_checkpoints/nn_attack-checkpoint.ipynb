{
 "cells": [
  {
   "cell_type": "markdown",
   "metadata": {},
   "source": "# Attack Model "
  },
  {
   "cell_type": "code",
   "execution_count": 1,
   "metadata": {},
   "outputs": [],
   "source": "import tensorflow as tf\nimport numpy as np\nimport pandas as pd\nfrom sklearn.utils import shuffle"
  },
  {
   "cell_type": "code",
   "execution_count": 71,
   "metadata": {},
   "outputs": [],
   "source": "dtr1=pd.read_csv(\"sh_forest.csv\")\ndtr2=pd.read_csv(\"sh_nn.csv\")\ndtr3=pd.read_csv(\"sh_softmax.csv\")\ntr1=np.array(dtr1)\ntr2=np.array(dtr2)\ntr3=np.array(dtr3)\ntotal_train=np.vstack((tr1))"
  },
  {
   "cell_type": "code",
   "execution_count": 72,
   "metadata": {},
   "outputs": [],
   "source": "total_train_shuffle=shuffle(total_train)"
  },
  {
   "cell_type": "code",
   "execution_count": 73,
   "metadata": {},
   "outputs": [],
   "source": "X_train=total_train_shuffle[:,:10]\ny_train=total_train_shuffle[:, 10:]"
  },
  {
   "cell_type": "code",
   "execution_count": 74,
   "metadata": {},
   "outputs": [],
   "source": "sorted_X=np.sort(X_train)\nX_train_3=sorted_X[:,7:]"
  },
  {
   "cell_type": "code",
   "execution_count": 75,
   "metadata": {},
   "outputs": [],
   "source": "dte=pd.read_csv(\"testing_set.csv\")\nte=np.array(dte)\ntotal_test=shuffle(te)\nX_test=total_test[:,:10]\ny_test=total_test[:,10:]"
  },
  {
   "cell_type": "code",
   "execution_count": 76,
   "metadata": {},
   "outputs": [],
   "source": "sorted_X_test=np.sort(X_test)\nX_test_3=sorted_X_test[:,7:]"
  },
  {
   "cell_type": "code",
   "execution_count": 77,
   "metadata": {},
   "outputs": [],
   "source": "model=tf.keras.Sequential([\n    tf.keras.layers.Dense(20, activation=None),\n    tf.keras.layers.Dense(1, activation='sigmoid')\n])\nopti=tf.keras.optimizers.Adam(1e-4)\nmodel.compile(\n        optimizer=opti,\n        loss=tf.keras.losses.BinaryCrossentropy(from_logits=True),\n        metrics=['accuracy'])"
  },
  {
   "cell_type": "code",
   "execution_count": 78,
   "metadata": {},
   "outputs": [
    {
     "name": "stdout",
     "output_type": "stream",
     "text": "Train on 35000 samples, validate on 35000 samples\nEpoch 1/10\n35000/35000 [==============================] - 2s 44us/sample - loss: 0.7182 - accuracy: 0.4950 - val_loss: 0.7101 - val_accuracy: 0.5000\nEpoch 2/10\n35000/35000 [==============================] - 1s 33us/sample - loss: 0.7045 - accuracy: 0.5000 - val_loss: 0.7011 - val_accuracy: 0.5000\nEpoch 3/10\n35000/35000 [==============================] - 1s 34us/sample - loss: 0.6984 - accuracy: 0.5000 - val_loss: 0.6972 - val_accuracy: 0.5000\nEpoch 4/10\n35000/35000 [==============================] - 1s 33us/sample - loss: 0.6959 - accuracy: 0.5000 - val_loss: 0.6955 - val_accuracy: 0.5000\nEpoch 5/10\n35000/35000 [==============================] - 1s 36us/sample - loss: 0.6947 - accuracy: 0.5000 - val_loss: 0.6947 - val_accuracy: 0.5000\nEpoch 6/10\n35000/35000 [==============================] - 1s 34us/sample - loss: 0.6941 - accuracy: 0.5000 - val_loss: 0.6942 - val_accuracy: 0.5000\nEpoch 7/10\n35000/35000 [==============================] - 1s 34us/sample - loss: 0.6938 - accuracy: 0.5000 - val_loss: 0.6938 - val_accuracy: 0.5000\nEpoch 8/10\n35000/35000 [==============================] - 1s 36us/sample - loss: 0.6936 - accuracy: 0.5000 - val_loss: 0.6937 - val_accuracy: 0.5000\nEpoch 9/10\n35000/35000 [==============================] - 1s 35us/sample - loss: 0.6935 - accuracy: 0.5000 - val_loss: 0.6935 - val_accuracy: 0.5000\nEpoch 10/10\n35000/35000 [==============================] - 1s 34us/sample - loss: 0.6934 - accuracy: 0.5000 - val_loss: 0.6934 - val_accuracy: 0.5000\n"
    },
    {
     "data": {
      "text/plain": "<tensorflow.python.keras.callbacks.History at 0x7f64280db8d0>"
     },
     "execution_count": 78,
     "metadata": {},
     "output_type": "execute_result"
    }
   ],
   "source": "model.fit(X_train_3, y_train, batch_size=60, epochs=10, validation_data=(X_test_3, y_test))"
  }
 ],
 "metadata": {
  "kernelspec": {
   "display_name": "dl-env",
   "language": "python",
   "name": "dl-env"
  },
  "language_info": {
   "codemirror_mode": {
    "name": "ipython",
    "version": 3
   },
   "file_extension": ".py",
   "mimetype": "text/x-python",
   "name": "python",
   "nbconvert_exporter": "python",
   "pygments_lexer": "ipython3",
   "version": "3.6.9"
  },
  "toc": {
   "nav_menu": {},
   "number_sections": true,
   "sideBar": true,
   "skip_h1_title": false,
   "title_cell": "Table of Contents",
   "title_sidebar": "Contents",
   "toc_cell": false,
   "toc_position": {},
   "toc_section_display": true,
   "toc_window_display": false
  }
 },
 "nbformat": 4,
 "nbformat_minor": 4
}
