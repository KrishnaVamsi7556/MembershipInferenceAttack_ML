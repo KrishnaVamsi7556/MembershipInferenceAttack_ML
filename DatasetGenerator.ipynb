{
 "cells": [
  {
   "cell_type": "markdown",
   "metadata": {},
   "source": "- The file will generate 4 sets of total dataset. (set1.csv, set2.csv, set3.csv, set4.csv)\n- The last column of the dataset of y(label) corresponding to this dataset.\n\nIf you want to use the data as the image i.e. in $n \\times 28 \\times 28 $ format, use the following command\n\nX_train=X_train.reshape(X_train.shape[0], 28, 28)\n\nif you want to use it as matrix i.e. $n \\times 784$ format, use it directly\n\n![Dataset Image](./datasets.png)"
  },
  {
   "cell_type": "code",
   "execution_count": 2,
   "metadata": {},
   "outputs": [],
   "source": "import tensorflow as tf\nimport numpy as np\nimport pandas as pd"
  },
  {
   "cell_type": "code",
   "execution_count": 5,
   "metadata": {},
   "outputs": [],
   "source": "fashion_mnist=tf.keras.datasets.fashion_mnist\ntrain, test=fashion_mnist.load_data()\nx_train_full, y_train_full=train\nx_test_full, y_test_full=test"
  },
  {
   "cell_type": "code",
   "execution_count": 12,
   "metadata": {},
   "outputs": [
    {
     "name": "stdout",
     "output_type": "stream",
     "text": "((60000, 28, 28), (60000,))\n(70000, 785)\n"
    }
   ],
   "source": "print(x_train_full.shape, y_train_full.shape)\nx_train=np.hstack((x_train_full.reshape(x_train_full.shape[0], x_train_full.shape[1]*x_train_full.shape[2]), \n                   y_train_full.reshape(y_train_full.shape[0], 1)))\n\nx_test=np.hstack((x_test_full.reshape(x_test_full.shape[0],x_test_full.shape[1]*x_test_full.shape[2]), \n                y_test_full.reshape(y_test_full.shape[0], 1)))\n\ndataset_total=np.vstack((x_train, x_test))\nprint(dataset_total.shape)"
  },
  {
   "cell_type": "code",
   "execution_count": 18,
   "metadata": {},
   "outputs": [
    {
     "name": "stdout",
     "output_type": "stream",
     "text": "((17500, 785), (17500, 785), (17500, 785), (17500, 785))\n"
    }
   ],
   "source": "size=int(dataset_total.shape[0]*0.25)\nset1=dataset_total[:size, :]\nset2=dataset_total[size:2*size, :]\nset3=dataset_total[2*size:3*size, :]\nset4=dataset_total[3*size:, :]\nprint(set1.shape, set2.shape, set3.shape, set4.shape)\n\ndf1=pd.DataFrame(set1)\ndf1.to_csv(\"set1.csv\", index=False, header=True)\n\ndf2=pd.DataFrame(set1)\ndf2.to_csv(\"set2.csv\", index=False, header=True)\n\ndf3=pd.DataFrame(set1)\ndf3.to_csv(\"set3.csv\", index=False, header=True)\n\ndf4=pd.DataFrame(set1)\ndf4.to_csv(\"set4.csv\", index=False, header=True)"
  }
 ],
 "metadata": {
  "kernelspec": {
   "display_name": "Python 2",
   "language": "python",
   "name": "python2"
  },
  "language_info": {
   "codemirror_mode": {
    "name": "ipython",
    "version": 2
   },
   "file_extension": ".py",
   "mimetype": "text/x-python",
   "name": "python",
   "nbconvert_exporter": "python",
   "pygments_lexer": "ipython2",
   "version": "2.7.17"
  },
  "toc": {
   "nav_menu": {},
   "number_sections": true,
   "sideBar": true,
   "skip_h1_title": false,
   "title_cell": "Table of Contents",
   "title_sidebar": "Contents",
   "toc_cell": false,
   "toc_position": {},
   "toc_section_display": true,
   "toc_window_display": false
  }
 },
 "nbformat": 4,
 "nbformat_minor": 4
}
