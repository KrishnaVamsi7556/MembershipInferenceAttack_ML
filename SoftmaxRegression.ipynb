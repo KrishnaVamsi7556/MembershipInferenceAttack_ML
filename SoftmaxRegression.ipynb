{
 "cells": [
  {
   "cell_type": "code",
   "execution_count": 2,
   "metadata": {},
   "outputs": [],
   "source": "import tensorflow as tf\nfrom tensorflow import keras\nimport numpy as np\nimport matplotlib.pyplot as plt\nimport pandas as pd"
  },
  {
   "cell_type": "code",
   "execution_count": 5,
   "metadata": {},
   "outputs": [],
   "source": "train=pd.read_csv(\"set1.csv\")\ntest=pd.read_csv(\"set2.csv\")\n\ntrainset=np.array(train.values)\ntestset=np.array(test.values)\n\nXtrain, ytrain=trainset[:, :trainset.shape[1]-1], trainset[:, trainset.shape[1]-1:]\nXtest, ytest=testset[:, :testset.shape[1]-1], testset[:, trainset.shape[1]-1:]\n\nX_train=Xtrain.reshape(Xtrain.shape[0], 28, 28)\nX_test=Xtest.reshape(Xtest.shape[0], 28, 28)\n\ny_train=ytrain.reshape(ytrain.shape[0])\ny_test=ytest.reshape(ytest.shape[0])"
  },
  {
   "cell_type": "code",
   "execution_count": 6,
   "metadata": {},
   "outputs": [],
   "source": "X_train=X_train.reshape((X_train.shape[0], X_train.shape[1]*X_train.shape[2]))\nX_test=X_test.reshape((X_test.shape[0],X_test.shape[1]*X_test.shape[2]))"
  },
  {
   "cell_type": "code",
   "execution_count": 7,
   "metadata": {},
   "outputs": [],
   "source": "from sklearn.linear_model import LogisticRegression\nfrom sklearn.metrics import accuracy_score"
  },
  {
   "cell_type": "code",
   "execution_count": 8,
   "metadata": {},
   "outputs": [],
   "source": "X_train=X_train/255.0\nX_test=X_test/255.0"
  },
  {
   "cell_type": "code",
   "execution_count": 9,
   "metadata": {},
   "outputs": [
    {
     "name": "stdout",
     "output_type": "stream",
     "text": "0.9053714285714286\n"
    }
   ],
   "source": "softRegr=LogisticRegression(multi_class='multinomial', solver='lbfgs', max_iter=2000, penalty='l2')\nsoftRegr.fit(X_train, y_train)\ny_pred=softRegr.predict(X_test)\naccuracy=accuracy_score(y_test, y_pred)\nprint(accuracy)"
  },
  {
   "cell_type": "code",
   "execution_count": 10,
   "metadata": {},
   "outputs": [],
   "source": "y_out=softRegr.predict_proba(X_test)\ny_in=softRegr.predict_proba(X_train)"
  },
  {
   "cell_type": "code",
   "execution_count": 12,
   "metadata": {},
   "outputs": [],
   "source": "din=np.hstack((y_in, np.ones((y_in.shape[0],1))))\ndout=np.hstack((y_out, np.zeros((y_out.shape[0],1))))\ndt=np.vstack((din,dout))\ndf=pd.DataFrame(dt)\ndf.to_csv(\"sh_softmax.csv\", index=False, header=True)"
  }
 ],
 "metadata": {
  "kernelspec": {
   "display_name": "Python 2",
   "language": "python",
   "name": "python2"
  },
  "language_info": {
   "codemirror_mode": {
    "name": "ipython",
    "version": 2
   },
   "file_extension": ".py",
   "mimetype": "text/x-python",
   "name": "python",
   "nbconvert_exporter": "python",
   "pygments_lexer": "ipython2",
   "version": "2.7.17"
  },
  "toc": {
   "nav_menu": {},
   "number_sections": true,
   "sideBar": true,
   "skip_h1_title": false,
   "title_cell": "Table of Contents",
   "title_sidebar": "Contents",
   "toc_cell": false,
   "toc_position": {},
   "toc_section_display": true,
   "toc_window_display": false
  }
 },
 "nbformat": 4,
 "nbformat_minor": 4
}
