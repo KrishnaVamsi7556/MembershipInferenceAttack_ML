{
 "cells": [
  {
   "cell_type": "code",
   "execution_count": 21,
   "metadata": {},
   "outputs": [],
   "source": "import tensorflow as tf\nfrom tensorflow import keras\nimport numpy as np\nimport pandas as pd"
  },
  {
   "cell_type": "code",
   "execution_count": 22,
   "metadata": {},
   "outputs": [],
   "source": "train=pd.read_csv(\"set1.csv\")\ntest=pd.read_csv(\"set2.csv\")\n\ntrainset=np.array(train.values)\ntestset=np.array(test.values)\n\nXtrain, ytrain=trainset[:, :trainset.shape[1]-1], trainset[:, trainset.shape[1]-1:]\nXtest, ytest=testset[:, :testset.shape[1]-1], testset[:, trainset.shape[1]-1:]\n\nX_train=Xtrain.reshape(Xtrain.shape[0], 28, 28)\nX_test=Xtest.reshape(Xtest.shape[0], 28, 28)"
  },
  {
   "cell_type": "code",
   "execution_count": 23,
   "metadata": {},
   "outputs": [],
   "source": "y_train=ytrain.reshape(ytrain.shape[0])\ny_test=ytest.reshape(ytest.shape[0])"
  },
  {
   "cell_type": "code",
   "execution_count": 24,
   "metadata": {},
   "outputs": [],
   "source": "X_test=X_test/255.0\nX_train=X_train/255.0"
  },
  {
   "cell_type": "code",
   "execution_count": 25,
   "metadata": {},
   "outputs": [],
   "source": "from sklearn.ensemble import ExtraTreesClassifier\nclf=ExtraTreesClassifier(n_estimators=50, max_features=50)"
  },
  {
   "cell_type": "code",
   "execution_count": 26,
   "metadata": {},
   "outputs": [],
   "source": "X_train=X_train.reshape(X_train.shape[0],X_train.shape[1]*X_train.shape[2])\nX_test=X_test.reshape(X_test.shape[0],X_test.shape[1]*X_test.shape[2])"
  },
  {
   "cell_type": "code",
   "execution_count": 27,
   "metadata": {},
   "outputs": [],
   "source": "class_names = ['T-shirt/top', 'Trouser', 'Pullover', 'Dress', 'Coat',\n               'Sandal', 'Shirt', 'Sneaker', 'Bag', 'Ankle boot']"
  },
  {
   "cell_type": "code",
   "execution_count": 28,
   "metadata": {},
   "outputs": [],
   "source": "clf=clf.fit(X_train,y_train)"
  },
  {
   "cell_type": "code",
   "execution_count": 29,
   "metadata": {},
   "outputs": [],
   "source": "y_pred=clf.predict(X_test)"
  },
  {
   "cell_type": "code",
   "execution_count": 30,
   "metadata": {
    "scrolled": true
   },
   "outputs": [
    {
     "name": "stdout",
     "output_type": "stream",
     "text": "('Accuracy', 100.0)\n"
    }
   ],
   "source": "from sklearn.metrics import accuracy_score\nacc=accuracy_score(y_test, y_pred)\nprint(\"Accuracy\", acc*100)"
  },
  {
   "cell_type": "code",
   "execution_count": 31,
   "metadata": {},
   "outputs": [],
   "source": "y_in=clf.predict_proba(X_train)\ny_out=clf.predict_proba(X_test)"
  },
  {
   "cell_type": "code",
   "execution_count": 32,
   "metadata": {},
   "outputs": [
    {
     "name": "stdout",
     "output_type": "stream",
     "text": "[[1. 0. 0. 0. 0. 0. 0. 0. 0. 0.]\n [0. 0. 0. 0. 0. 0. 0. 0. 0. 1.]\n [0. 0. 0. 0. 0. 1. 0. 0. 0. 0.]\n [0. 0. 0. 0. 0. 1. 0. 0. 0. 0.]\n [0. 0. 0. 0. 0. 0. 0. 1. 0. 0.]]\n"
    }
   ],
   "source": "print(y_in[10:15])"
  },
  {
   "cell_type": "code",
   "execution_count": 33,
   "metadata": {},
   "outputs": [],
   "source": "import pandas as pd\nimport numpy as np"
  },
  {
   "cell_type": "code",
   "execution_count": 35,
   "metadata": {},
   "outputs": [],
   "source": "din=np.hstack((y_in, np.ones((y_in.shape[0],1))))\ndout=np.hstack((y_out, np.zeros((y_out.shape[0],1))))\ndt=np.vstack((din,dout))\ndf=pd.DataFrame(dt)\ndf.to_csv(\"sh_forest.csv\", index=False, header=True)"
  }
 ],
 "metadata": {
  "kernelspec": {
   "display_name": "Python 3",
   "language": "python",
   "name": "python3"
  },
  "language_info": {
   "codemirror_mode": {
    "name": "ipython",
    "version": 2
   },
   "file_extension": ".py",
   "mimetype": "text/x-python",
   "name": "python",
   "nbconvert_exporter": "python",
   "pygments_lexer": "ipython2",
   "version": "2.7.17"
  },
  "toc": {
   "nav_menu": {},
   "number_sections": true,
   "sideBar": true,
   "skip_h1_title": false,
   "title_cell": "Table of Contents",
   "title_sidebar": "Contents",
   "toc_cell": false,
   "toc_position": {},
   "toc_section_display": true,
   "toc_window_display": false
  }
 },
 "nbformat": 4,
 "nbformat_minor": 2
}
