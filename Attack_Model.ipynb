{
 "cells": [
  {
   "cell_type": "markdown",
   "metadata": {},
   "source": [
    "# Attack Model\n",
    "- Logistic Regression Attack"
   ]
  },
  {
   "cell_type": "code",
   "execution_count": 1,
   "metadata": {},
   "outputs": [],
   "source": [
    "import numpy as np\n",
    "import pandas as pd\n",
    "from sklearn.utils import shuffle\n",
    "from sklearn.metrics import confusion_matrix,classification_report, precision_score, recall_score, accuracy_score"
   ]
  },
  {
   "cell_type": "code",
   "execution_count": 2,
   "metadata": {},
   "outputs": [],
   "source": [
    "dte = pd.read_csv(\"sh_forest.csv\")\n",
    "dtr1 = pd.read_csv(\"sh_softmax.csv\")\n",
    "\n",
    "te = np.array(dte)\n",
    "tr1=np.array(dtr1)\n",
    "\n",
    "tr=np.vstack((tr1))\n",
    "tr_shuffle = shuffle(tr)\n",
    "te_shuffle = shuffle(te)"
   ]
  },
  {
   "cell_type": "code",
   "execution_count": 3,
   "metadata": {},
   "outputs": [],
   "source": [
    "x_train = tr_shuffle[:,:20]\n",
    "y_train = tr_shuffle[:,20:]\n",
    "x_test = te_shuffle[:,:20]\n",
    "y_test = te_shuffle[:,20:]\n",
    "x_tr = np.sort(x_train)\n",
    "x_te = np.sort(x_test)\n",
    "X_train = x_tr[:,17:]\n",
    "X_test = x_te[:,17:]"
   ]
  },
  {
   "cell_type": "code",
   "execution_count": 5,
   "metadata": {},
   "outputs": [
    {
     "name": "stdout",
     "output_type": "stream",
     "text": [
      "Attack Accuracy: 0.8443170964660937 \n",
      "Precision: 0.7625445127873098 \n",
      "Recall: 1.0\n"
     ]
    },
    {
     "name": "stderr",
     "output_type": "stream",
     "text": [
      "C:\\Users\\User\\Anaconda3\\lib\\site-packages\\sklearn\\linear_model\\logistic.py:432: FutureWarning: Default solver will be changed to 'lbfgs' in 0.22. Specify a solver to silence this warning.\n",
      "  FutureWarning)\n"
     ]
    }
   ],
   "source": [
    "from sklearn.linear_model import LogisticRegression\n",
    "model = LogisticRegression()\n",
    "model.fit(X_train,y_train.ravel())\n",
    "\n",
    "predict_test_logi = model.predict(X_test)\n",
    "precision=precision_score(y_test, predict_test_logi)\n",
    "recall=recall_score(y_test, predict_test_logi)\n",
    "accuracy=accuracy_score(y_test, predict_test_logi)\n",
    "\n",
    "print(\"Attack Accuracy: {} \\nPrecision: {} \\nRecall: {}\".format(accuracy, precision, recall))"
   ]
  }
 ],
 "metadata": {
  "kernelspec": {
   "display_name": "Python 3",
   "language": "python",
   "name": "python3"
  },
  "language_info": {
   "codemirror_mode": {
    "name": "ipython",
    "version": 3
   },
   "file_extension": ".py",
   "mimetype": "text/x-python",
   "name": "python",
   "nbconvert_exporter": "python",
   "pygments_lexer": "ipython3",
   "version": "3.7.4"
  },
  "toc": {
   "nav_menu": {},
   "number_sections": true,
   "sideBar": true,
   "skip_h1_title": false,
   "title_cell": "Table of Contents",
   "title_sidebar": "Contents",
   "toc_cell": false,
   "toc_position": {},
   "toc_section_display": true,
   "toc_window_display": false
  }
 },
 "nbformat": 4,
 "nbformat_minor": 2
}
