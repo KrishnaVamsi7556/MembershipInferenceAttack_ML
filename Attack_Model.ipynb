{
 "cells": [
  {
   "cell_type": "markdown",
   "metadata": {},
   "source": "# Attack Model\n- Logistic Regression Attack"
  },
  {
   "cell_type": "code",
   "execution_count": 7,
   "metadata": {},
   "outputs": [],
   "source": "import numpy as np\nimport pandas as pd\nfrom sklearn.utils import shuffle\nfrom sklearn.metrics import confusion_matrix,classification_report, precision_score, recall_score, accuracy_score"
  },
  {
   "cell_type": "code",
   "execution_count": 8,
   "metadata": {},
   "outputs": [],
   "source": "dte = pd.read_csv(\"sh_forest.csv\")\ndtr1 = pd.read_csv(\"sh_softmax.csv\")\n\nte = np.array(dte)\ntr1=np.array(dtr1)\n\ntr=np.vstack((tr1))\ntr_shuffle = shuffle(tr)\nte_shuffle = shuffle(te)"
  },
  {
   "cell_type": "code",
   "execution_count": 9,
   "metadata": {},
   "outputs": [],
   "source": "x_train = tr_shuffle[:,:20]\ny_train = tr_shuffle[:,20:]\nx_test = te_shuffle[:,:20]\ny_test = te_shuffle[:,20:]\nx_tr = np.sort(x_train)\nx_te = np.sort(x_test)\nX_train = x_tr[:,17:]\nX_test = x_te[:,17:]"
  },
  {
   "cell_type": "code",
   "execution_count": 11,
   "metadata": {},
   "outputs": [
    {
     "name": "stdout",
     "output_type": "stream",
     "text": "Attack Accuracy: 0.8495171389154197 \n Precision: 0.7686408875836188 \n Recall: 1.0\n"
    }
   ],
   "source": "from sklearn.linear_model import LogisticRegression\nmodel = LogisticRegression()\nmodel.fit(X_train,y_train.ravel())\n\npredict_test_logi = model.predict(X_test)\nprecision=precision_score(y_test, predict_test_logi)\nrecall=recall_score(y_test, predict_test_logi)\naccuracy=accuracy_score(y_test, predict_test_logi)\n\nprint(\"Attack Accuracy: {} \\n Precision: {} \\n Recall: {}\".format(accuracy, precision, recall))"
  }
 ],
 "metadata": {
  "kernelspec": {
   "display_name": "dl-env",
   "language": "python",
   "name": "dl-env"
  },
  "language_info": {
   "codemirror_mode": {
    "name": "ipython",
    "version": 3
   },
   "file_extension": ".py",
   "mimetype": "text/x-python",
   "name": "python",
   "nbconvert_exporter": "python",
   "pygments_lexer": "ipython3",
   "version": "3.6.9"
  },
  "toc": {
   "nav_menu": {},
   "number_sections": true,
   "sideBar": true,
   "skip_h1_title": false,
   "title_cell": "Table of Contents",
   "title_sidebar": "Contents",
   "toc_cell": false,
   "toc_position": {},
   "toc_section_display": true,
   "toc_window_display": false
  }
 },
 "nbformat": 4,
 "nbformat_minor": 2
}
