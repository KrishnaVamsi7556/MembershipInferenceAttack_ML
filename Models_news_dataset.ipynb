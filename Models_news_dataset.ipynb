{
 "cells": [
  {
   "cell_type": "markdown",
   "metadata": {},
   "source": [
    "# Dataset : News 20"
   ]
  },
  {
   "cell_type": "code",
   "execution_count": 1,
   "metadata": {},
   "outputs": [],
   "source": [
    "import numpy as np\n",
    "import pandas as pd\n",
    "from sklearn.datasets import fetch_20newsgroups_vectorized\n",
    "from sklearn.model_selection import train_test_split"
   ]
  },
  {
   "cell_type": "code",
   "execution_count": 2,
   "metadata": {},
   "outputs": [],
   "source": [
    "dataset = fetch_20newsgroups_vectorized('all')\n",
    "X = dataset.data\n",
    "y = dataset.target"
   ]
  },
  {
   "cell_type": "markdown",
   "metadata": {},
   "source": [
    "# Shadow Model\n",
    "## Softmax"
   ]
  },
  {
   "cell_type": "code",
   "execution_count": 3,
   "metadata": {},
   "outputs": [],
   "source": [
    "shadow_X, target_X, shadow_y, target_y = train_test_split(X, y, random_state=42, test_size=0.5)\n",
    "X_train, X_test, y_train, y_test = train_test_split(shadow_X, shadow_y, test_size=0.5, random_state=42)"
   ]
  },
  {
   "cell_type": "code",
   "execution_count": 4,
   "metadata": {},
   "outputs": [
    {
     "name": "stdout",
     "output_type": "stream",
     "text": [
      "Training Accuracy : 0.8520483973678624, Testing Accuracy : 0.7014006791171478\n"
     ]
    }
   ],
   "source": [
    "from sklearn.linear_model import LogisticRegression\n",
    "from sklearn.metrics import accuracy_score\n",
    "softRegr=LogisticRegression(multi_class='multinomial', solver='lbfgs', max_iter=3000, penalty='l2')\n",
    "softRegr.fit(X_train, y_train)\n",
    "\n",
    "pred_train=softRegr.predict(X_train)\n",
    "pred_test=softRegr.predict(X_test)\n",
    "\n",
    "train_acc=accuracy_score(y_train, pred_train)\n",
    "test_acc=accuracy_score(y_test, pred_test)\n",
    "\n",
    "print(\"Training Accuracy : {}, Testing Accuracy : {}\".format(train_acc, test_acc))"
   ]
  },
  {
   "cell_type": "code",
   "execution_count": 5,
   "metadata": {},
   "outputs": [],
   "source": [
    "y_out=softRegr.predict_proba(X_test)\n",
    "y_in=softRegr.predict_proba(X_train)"
   ]
  },
  {
   "cell_type": "code",
   "execution_count": 6,
   "metadata": {},
   "outputs": [],
   "source": [
    "y_in_sorted=np.sort(y_in)\n",
    "y_in_top3=y_in_sorted[:, 17:]\n",
    "y_out_sorted=np.sort(y_out)\n",
    "y_out_top3=y_out_sorted[:, 17:]"
   ]
  },
  {
   "cell_type": "code",
   "execution_count": 7,
   "metadata": {},
   "outputs": [],
   "source": [
    "din=np.hstack((y_in_top3, np.ones((y_in_top3.shape[0],1))))\n",
    "dout=np.hstack((y_out_top3, np.zeros((y_out_top3.shape[0],1))))\n",
    "dt=np.vstack((din,dout))\n",
    "df=pd.DataFrame(dt)\n",
    "df.to_csv(\"sh_softmax.csv\", index=False, header=True)"
   ]
  },
  {
   "cell_type": "markdown",
   "metadata": {},
   "source": [
    "# Target Model\n",
    "## Random Forest"
   ]
  },
  {
   "cell_type": "code",
   "execution_count": 8,
   "metadata": {},
   "outputs": [],
   "source": [
    "shadow_X, target_X, shadow_y, target_y = train_test_split(X, y, random_state=42, test_size=0.5)\n",
    "X_train, X_test, y_train, y_test = train_test_split(target_X, target_y, test_size=0.5, random_state=42)"
   ]
  },
  {
   "cell_type": "code",
   "execution_count": 9,
   "metadata": {},
   "outputs": [
    {
     "name": "stdout",
     "output_type": "stream",
     "text": [
      "Training Accuracy : 1.0, Testing Accuracy : 0.7892614601018676\n"
     ]
    }
   ],
   "source": [
    "from sklearn.ensemble import ExtraTreesClassifier\n",
    "model = ExtraTreesClassifier(n_estimators=100, max_features=50)\n",
    "\n",
    "model.fit(X_train,y_train)\n",
    "\n",
    "predict_train=model.predict(X_train)\n",
    "predict_test = model.predict(X_test)\n",
    "\n",
    "train_acc=accuracy_score(y_train, predict_train)\n",
    "test_acc=accuracy_score(y_test, predict_test)\n",
    "print(\"Training Accuracy : {}, Testing Accuracy : {}\".format(train_acc, test_acc))"
   ]
  },
  {
   "cell_type": "code",
   "execution_count": 10,
   "metadata": {},
   "outputs": [],
   "source": [
    "y_in=model.predict_proba(X_train)\n",
    "y_out=model.predict_proba(X_test)"
   ]
  },
  {
   "cell_type": "code",
   "execution_count": 11,
   "metadata": {},
   "outputs": [],
   "source": [
    "y_in_sorted=np.sort(y_in)\n",
    "y_in_top3=y_in_sorted[:, 17:]\n",
    "y_out_sorted=np.sort(y_out)\n",
    "y_out_top3=y_out_sorted[:, 17:]"
   ]
  },
  {
   "cell_type": "code",
   "execution_count": 12,
   "metadata": {},
   "outputs": [],
   "source": [
    "din=np.hstack((y_in_top3, np.ones((y_in_top3.shape[0],1))))\n",
    "dout=np.hstack((y_out_top3, np.zeros((y_out_top3.shape[0],1))))\n",
    "dt=np.vstack((din,dout))\n",
    "df=pd.DataFrame(dt)\n",
    "df.to_csv(\"sh_forest.csv\", index=False, header=True)"
   ]
  }
 ],
 "metadata": {
  "kernelspec": {
   "display_name": "Python 3",
   "language": "python",
   "name": "python3"
  },
  "language_info": {
   "codemirror_mode": {
    "name": "ipython",
    "version": 3
   },
   "file_extension": ".py",
   "mimetype": "text/x-python",
   "name": "python",
   "nbconvert_exporter": "python",
   "pygments_lexer": "ipython3",
   "version": "3.7.4"
  },
  "toc": {
   "nav_menu": {},
   "number_sections": true,
   "sideBar": true,
   "skip_h1_title": false,
   "title_cell": "Table of Contents",
   "title_sidebar": "Contents",
   "toc_cell": false,
   "toc_position": {},
   "toc_section_display": true,
   "toc_window_display": false
  }
 },
 "nbformat": 4,
 "nbformat_minor": 4
}
